{
 "cells": [
  {
   "cell_type": "markdown",
   "id": "95ac5f65-1ef4-4910-91d1-e7bb5c082cc4",
   "metadata": {},
   "source": [
    "# Fundamental Financial concepts\n"
   ]
  },
  {
   "cell_type": "markdown",
   "id": "05bf8091-0cd5-45db-9eee-d0e5d7426032",
   "metadata": {},
   "source": [
    "## 1. The Time Value of Money"
   ]
  },
  {
   "cell_type": "markdown",
   "id": "3ac3486f-7362-43e6-b056-04521b96ea99",
   "metadata": {},
   "source": [
    "### a. Fundamental Financial Concepts"
   ]
  },
  {
   "cell_type": "markdown",
   "id": "2b791067-4333-40c7-b5d2-da4ee08db34e",
   "metadata": {
    "jp-MarkdownHeadingCollapsed": true
   },
   "source": [
    "#### i. ROI\n",
    "ROI as a **% Gain** is calculated as:\n",
    "\n",
    "$$ r = {v_t2 - v_t1  \\over v_t1} $$\n",
    "\n",
    "Where:\n",
    "1. $vt1$ is the initial value of the investment at time 1.\n",
    "2. $vt2$ is the final value of the investment at time 2.\n",
    "3. $r$ is the rate of return of investment for time $t$.\n",
    "\n",
    "Tldr: It represents the **return over investment** as a percentage of the gains or losses.\n",
    "\n",
    "Let's see an example\n"
   ]
  },
  {
   "cell_type": "code",
   "execution_count": 1,
   "id": "2ab617f6-7236-42ae-bc07-8145f5d27008",
   "metadata": {
    "scrolled": true
   },
   "outputs": [
    {
     "name": "stdout",
     "output_type": "stream",
     "text": [
      "the ROI as % gained is: 0.1\n"
     ]
    }
   ],
   "source": [
    "\n",
    "initial_value_of_investment = 10000\n",
    "final_value_of_investement = 11000\n",
    "\n",
    "roi = (final_value_of_investement - initial_value_of_investment) / initial_value_of_investment\n",
    "\n",
    "## Let's figure out if our investement has gone up or down, and in what percentage.\n",
    "print('the ROI as % gained is:',roi)\n"
   ]
  },
  {
   "cell_type": "markdown",
   "id": "285675ba-4b40-4fee-878c-5b7b52f80918",
   "metadata": {},
   "source": [
    "We can re-arrange ROI formula above, if we want to know the **dollar value** $v_t2$ of our investment at the end of time period $t$ as such:\n",
    "\n",
    "\n",
    "$$ {v_t2 = v_t1 * (1 + r)}$$\n",
    "\n",
    "Let's see an example:"
   ]
  },
  {
   "cell_type": "code",
   "execution_count": 27,
   "id": "badc861b-19c0-4ef9-835d-2a690410daee",
   "metadata": {},
   "outputs": [
    {
     "name": "stdout",
     "output_type": "stream",
     "text": [
      "the ROI as dollar value is 11000.0\n"
     ]
    }
   ],
   "source": [
    "initial_value_of_investment = 10000\n",
    "annual_rate_of_return = 0.1\n",
    "\n",
    "roi_dollar_value = initial_value_of_investment * (1 + annual_rate_of_return)\n",
    "\n",
    "print('the ROI as dollar value is',roi_dollar_value)"
   ]
  },
  {
   "cell_type": "markdown",
   "id": "a0080652-d3cd-49ad-a75c-8655ffd47419",
   "metadata": {
    "jp-MarkdownHeadingCollapsed": true
   },
   "source": [
    "#### ii. Cumulative Growth (or depreciation)\n",
    "The value of an investment with constant cumulative growth over time, can be calculated as:\n",
    "\n",
    "$$ InvestmentValue =  v_t0 * (1 + r)^t$$\n",
    "\n",
    "Where:\n",
    "1. $vto$ is the initial value of the investment at time o.\n",
    "2. $t$ is the lifespan of the investment.\n",
    "3. $r$ is the rate of return of investment."
   ]
  },
  {
   "cell_type": "code",
   "execution_count": 39,
   "id": "8bf9d116-1580-494d-bac7-f876528eb39a",
   "metadata": {},
   "outputs": [
    {
     "name": "stdout",
     "output_type": "stream",
     "text": [
      "the investment value in the future is: 196801.06004656252\n"
     ]
    }
   ],
   "source": [
    "# si invierto $100k en el banco,\n",
    "initial_value_of_investment = 100000\n",
    "# y me dan de interes 14.5% anual por tener mi dinero,\n",
    "annual_rate_of_return = 0.145\n",
    "# y tengo mi dinero 5 años.\n",
    "investment_lifespan = 5\n",
    "\n",
    "investment_value = initial_value_of_investment * (1 + annual_rate_of_return)**investment_lifespan\n",
    "\n",
    "print('the investment value in the future is:', investment_value)\n"
   ]
  },
  {
   "cell_type": "markdown",
   "id": "55e48bf0-92ba-4d2d-9424-557e95cbb979",
   "metadata": {
    "jp-MarkdownHeadingCollapsed": true
   },
   "source": [
    "#### iii. Discount factors\n",
    "What if we know the investment value, the rate of return, and we want to calculate the initial value of the investment. We use discount factors for that.\n",
    "\n",
    "The formula is:\n",
    "\n",
    "$$ df = {1 \\over (1 + r)^t}  $$\n",
    "\n",
    "It's the number that if multiplied by the future value, equals the intial value:\n",
    "\n",
    "$$ v = fv * df $$\n",
    "\n",
    "Where: \n",
    "1. $df$ is discount factor.\n",
    "2. $r$ is rate of return of investment.\n",
    "3. $t$ is the lifespan of the investment.\n",
    "4. $fv$ is future value of investment\n",
    "5. $v$ initial value of investment.\n",
    "\n",
    "An example:"
   ]
  },
  {
   "cell_type": "code",
   "execution_count": 4,
   "id": "4090ab03-7122-4c65-908e-12db2489b6b0",
   "metadata": {},
   "outputs": [
    {
     "name": "stdout",
     "output_type": "stream",
     "text": [
      "0.50812734431583\n",
      "the initial value of my investment was: 50812.734431583\n"
     ]
    }
   ],
   "source": [
    "# tengo 100k luego de \n",
    "future_value_of_investment = 100000\n",
    "# interes 14.5% anual por tener mi dinero,\n",
    "annual_rate_of_return = 0.145\n",
    "# 5 años en el banco.\n",
    "investment_lifespan = 5\n",
    "\n",
    "discount_factor = 1 / (1 + annual_rate_of_return)**investment_lifespan\n",
    "\n",
    "print(discount_factor)\n",
    "\n",
    "intial_value_of_investment = future_value_of_investment * discount_factor\n",
    "\n",
    "print('the initial value of my investment was:', intial_value_of_investment)"
   ]
  }
 ],
 "metadata": {
  "kernelspec": {
   "display_name": "Python 3 (ipykernel)",
   "language": "python",
   "name": "python3"
  },
  "language_info": {
   "codemirror_mode": {
    "name": "ipython",
    "version": 3
   },
   "file_extension": ".py",
   "mimetype": "text/x-python",
   "name": "python",
   "nbconvert_exporter": "python",
   "pygments_lexer": "ipython3",
   "version": "3.12.4"
  }
 },
 "nbformat": 4,
 "nbformat_minor": 5
}
