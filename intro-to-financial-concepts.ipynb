{
 "cells": [
  {
   "cell_type": "markdown",
   "id": "95ac5f65-1ef4-4910-91d1-e7bb5c082cc4",
   "metadata": {},
   "source": [
    "# Fundamental Financial concepts\n"
   ]
  },
  {
   "cell_type": "markdown",
   "id": "05bf8091-0cd5-45db-9eee-d0e5d7426032",
   "metadata": {},
   "source": [
    "## 1. The Time Value of Money"
   ]
  },
  {
   "cell_type": "markdown",
   "id": "3ac3486f-7362-43e6-b056-04521b96ea99",
   "metadata": {
    "jp-MarkdownHeadingCollapsed": true
   },
   "source": [
    "### a. Fundamental Financial Concepts"
   ]
  },
  {
   "cell_type": "markdown",
   "id": "2b791067-4333-40c7-b5d2-da4ee08db34e",
   "metadata": {
    "jp-MarkdownHeadingCollapsed": true
   },
   "source": [
    "#### i. ROI\n",
    "ROI as a **% Gain** is calculated as:\n",
    "\n",
    "$$ r = {v_t2 - v_t1  \\over v_t1} $$\n",
    "\n",
    "Where:\n",
    "1. $vt1$ is the initial value of the investment at time 1.\n",
    "2. $vt2$ is the final value of the investment at time 2.\n",
    "3. $r$ is the rate of return of investment for time $t$.\n",
    "\n",
    "Tldr: It represents the **return over investment** as a percentage of the gains or losses.\n",
    "\n",
    "Let's see an example\n"
   ]
  },
  {
   "cell_type": "code",
   "execution_count": 1,
   "id": "2ab617f6-7236-42ae-bc07-8145f5d27008",
   "metadata": {
    "scrolled": true
   },
   "outputs": [
    {
     "name": "stdout",
     "output_type": "stream",
     "text": [
      "the ROI as % gained is: 0.1\n"
     ]
    }
   ],
   "source": [
    "\n",
    "initial_value_of_investment = 10000\n",
    "final_value_of_investement = 11000\n",
    "\n",
    "roi = (final_value_of_investement - initial_value_of_investment) / initial_value_of_investment\n",
    "\n",
    "## Let's figure out if our investement has gone up or down, and in what percentage.\n",
    "print('the ROI as % gained is:',roi)\n"
   ]
  },
  {
   "cell_type": "markdown",
   "id": "285675ba-4b40-4fee-878c-5b7b52f80918",
   "metadata": {},
   "source": [
    "We can re-arrange ROI formula above, if we want to know the **dollar value** $v_t2$ of our investment at the end of time period $t$ as such:\n",
    "\n",
    "\n",
    "$$ {v_t2 = v_t1 * (1 + r)}$$\n",
    "\n",
    "Let's see an example:"
   ]
  },
  {
   "cell_type": "code",
   "execution_count": 27,
   "id": "badc861b-19c0-4ef9-835d-2a690410daee",
   "metadata": {},
   "outputs": [
    {
     "name": "stdout",
     "output_type": "stream",
     "text": [
      "the ROI as dollar value is 11000.0\n"
     ]
    }
   ],
   "source": [
    "initial_value_of_investment = 10000\n",
    "annual_rate_of_return = 0.1\n",
    "\n",
    "roi_dollar_value = initial_value_of_investment * (1 + annual_rate_of_return)\n",
    "\n",
    "print('the ROI as dollar value is',roi_dollar_value)"
   ]
  },
  {
   "cell_type": "markdown",
   "id": "a0080652-d3cd-49ad-a75c-8655ffd47419",
   "metadata": {
    "jp-MarkdownHeadingCollapsed": true
   },
   "source": [
    "#### ii. Cumulative Growth (or depreciation)\n",
    "The value of an investment with constant cumulative growth over time, can be calculated as:\n",
    "\n",
    "$$ InvestmentValue =  v_t0 * (1 + r)^t$$\n",
    "\n",
    "Where:\n",
    "1. $vto$ is the initial value of the investment at time 0.\n",
    "2. $t$ is the lifespan of the investment in years.\n",
    "3. $r$ is the rate of return of investment."
   ]
  },
  {
   "cell_type": "code",
   "execution_count": 39,
   "id": "8bf9d116-1580-494d-bac7-f876528eb39a",
   "metadata": {},
   "outputs": [
    {
     "name": "stdout",
     "output_type": "stream",
     "text": [
      "the investment value in the future is: 196801.06004656252\n"
     ]
    }
   ],
   "source": [
    "# si invierto $100k en el banco,\n",
    "initial_value_of_investment = 100000\n",
    "# y me dan de interes 14.5% anual por tener mi dinero,\n",
    "annual_rate_of_return = 0.145\n",
    "# y tengo mi dinero 5 años.\n",
    "investment_lifespan = 5\n",
    "\n",
    "investment_value = initial_value_of_investment * (1 + annual_rate_of_return)**investment_lifespan\n",
    "\n",
    "print('the investment value in the future is:', investment_value)\n"
   ]
  },
  {
   "cell_type": "markdown",
   "id": "55e48bf0-92ba-4d2d-9424-557e95cbb979",
   "metadata": {},
   "source": [
    "#### iii. Discount factors and depreciation\n",
    "What if we know the investment value, the rate of return, and we want to calculate the initial value of the investment. We use discount factors for that.\n",
    "\n",
    "The formula is:\n",
    "\n",
    "$$ df = {1 \\over (1 + r)^t}  $$\n",
    "\n",
    "It's the number that if multiplied by the future value, equals the intial value:\n",
    "\n",
    "$$ v = fv * df $$\n",
    "\n",
    "Where: \n",
    "1. $df$ is discount factor.\n",
    "2. $r$ is rate of return of investment.\n",
    "3. $t$ is the lifespan of the investment in years.\n",
    "4. $fv$ is future value of investment\n",
    "5. $v$ initial value of investment.\n",
    "\n",
    "An example:"
   ]
  },
  {
   "cell_type": "code",
   "execution_count": 2,
   "id": "4090ab03-7122-4c65-908e-12db2489b6b0",
   "metadata": {},
   "outputs": [
    {
     "name": "stdout",
     "output_type": "stream",
     "text": [
      "the initial value of my investment was: 50812.734431583\n",
      "---------------------------------\n",
      "Future value: 59.87\n",
      "Discount factor: 1.67\n",
      "Initial value: 100.0\n"
     ]
    }
   ],
   "source": [
    "# tengo 100k luego de \n",
    "future_value_of_investment = 100000\n",
    "# interes 14.5% anual por tener mi dinero,\n",
    "annual_rate_of_return = 0.145\n",
    "# 5 años en el banco.\n",
    "investment_lifespan = 5\n",
    "\n",
    "discount_factor = 1 / (1 + annual_rate_of_return)**investment_lifespan\n",
    "\n",
    "intial_value_of_investment = future_value_of_investment * discount_factor\n",
    "\n",
    "print('the initial value of my investment was:', intial_value_of_investment)\n",
    "\n",
    "print('---------------------------------')\n",
    "#Or also used to calculate depreciation.\n",
    "#Calculate the future value of a $100 investment that depreciates in value by 5% per year for 10 years and assign it to future_value.\n",
    "# Calculate the future value\n",
    "initial_investment = 100\n",
    "growth_rate = -0.05\n",
    "growth_periods = 10\n",
    "future_value = initial_investment*(1 + growth_rate)**(growth_periods)\n",
    "print(\"Future value: \" + str(round(future_value, 2)))\n",
    "\n",
    "# Calculate the discount factor\n",
    "discount_factor = 1/((1 + growth_rate)**(growth_periods))\n",
    "print(\"Discount factor: \" + str(round(discount_factor, 2)))\n",
    "\n",
    "# Derive the initial value of the investment\n",
    "initial_investment_again = future_value * discount_factor\n",
    "print(\"Initial value: \" + str(round(initial_investment_again, 2)))"
   ]
  },
  {
   "cell_type": "markdown",
   "id": "1006a966-d86d-447d-9ec7-415d52fd21af",
   "metadata": {},
   "source": [
    "#### iv. Compound interest\n",
    "What Einstein called, the 8th world wonder. It's the initial investment + investment profits which grows exponentially over time. To calculate the investment value after considering the compounding periods per year, we use the formula:\n",
    "\n",
    "$$ InvestmentValue = v_t0 * (1 + (r  /  c))^{t*c} $$\n",
    "\n",
    "Where:\n",
    "1. $vto$ is the initial value of the investment at time 0.\n",
    "2. $r$ is rate of return of investment.\n",
    "3. $t$ is the lifespan of the investment in years.\n",
    "4. $c$ is the compounding periods per year.\n",
    "\n",
    "An example:"
   ]
  },
  {
   "cell_type": "code",
   "execution_count": 4,
   "id": "dc82a431-c4a4-4da2-a991-91497bd0ed94",
   "metadata": {},
   "outputs": [
    {
     "name": "stdout",
     "output_type": "stream",
     "text": [
      "Investment 1 compounded yearly: 574.35\n",
      "Investment 2 compounded quarterly: 596.93\n",
      "Investment 3 compounded monthly: 602.26\n"
     ]
    }
   ],
   "source": [
    "# Predefined variables\n",
    "initial_investment = 100\n",
    "growth_periods = 30\n",
    "growth_rate = 0.06\n",
    "\n",
    "# Calculate the value for the investment compounded once per year\n",
    "compound_periods_1 = 1\n",
    "investment_1 = initial_investment*(1 + growth_rate / compound_periods_1)**(compound_periods_1*growth_periods)\n",
    "print(\"Investment 1 compounded yearly: \" + str(round(investment_1, 2)))\n",
    "\n",
    "# Calculate the value for the investment compounded quarterly\n",
    "compound_periods_2 = 4\n",
    "investment_2 = initial_investment*(1 + growth_rate / compound_periods_2)**(compound_periods_2*growth_periods)\n",
    "print(\"Investment 2 compounded quarterly: \" + str(round(investment_2, 2)))\n",
    "\n",
    "# Calculate the value for the investment compounded monthly\n",
    "compound_periods_3 = 12\n",
    "investment_3 = initial_investment*(1 + growth_rate / compound_periods_3)**(compound_periods_3*growth_periods)\n",
    "print(\"Investment 3 compounded monthly: \" + str(round(investment_3, 2)))"
   ]
  },
  {
   "cell_type": "markdown",
   "id": "042d398b-a57a-4b39-afce-283d4f58a811",
   "metadata": {},
   "source": [
    "### b. Present and Future Value"
   ]
  }
 ],
 "metadata": {
  "kernelspec": {
   "display_name": "Python 3 (ipykernel)",
   "language": "python",
   "name": "python3"
  },
  "language_info": {
   "codemirror_mode": {
    "name": "ipython",
    "version": 3
   },
   "file_extension": ".py",
   "mimetype": "text/x-python",
   "name": "python",
   "nbconvert_exporter": "python",
   "pygments_lexer": "ipython3",
   "version": "3.12.4"
  }
 },
 "nbformat": 4,
 "nbformat_minor": 5
}
