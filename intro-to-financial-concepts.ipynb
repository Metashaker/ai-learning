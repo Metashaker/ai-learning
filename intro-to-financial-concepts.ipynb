{
 "cells": [
  {
   "cell_type": "markdown",
   "id": "95ac5f65-1ef4-4910-91d1-e7bb5c082cc4",
   "metadata": {},
   "source": [
    "# Fundamental Financial concepts\n"
   ]
  },
  {
   "cell_type": "markdown",
   "id": "05bf8091-0cd5-45db-9eee-d0e5d7426032",
   "metadata": {
    "jp-MarkdownHeadingCollapsed": true
   },
   "source": [
    "## 1. The Time Value of Money"
   ]
  },
  {
   "cell_type": "markdown",
   "id": "3ac3486f-7362-43e6-b056-04521b96ea99",
   "metadata": {
    "jp-MarkdownHeadingCollapsed": true
   },
   "source": [
    "### a. Fundamental Financial Concepts"
   ]
  },
  {
   "cell_type": "markdown",
   "id": "2b791067-4333-40c7-b5d2-da4ee08db34e",
   "metadata": {
    "jp-MarkdownHeadingCollapsed": true
   },
   "source": [
    "#### i. ROI\n",
    "ROI as a **% Gain** is calculated as:\n",
    "\n",
    "$$ r = {v_t2 - v_t1  \\over v_t1} $$\n",
    "\n",
    "Where:\n",
    "1. $vt1$ is the initial value of the investment at time 1.\n",
    "2. $vt2$ is the final value of the investment at time 2.\n",
    "3. $r$ is the rate of return of investment for time $t$.\n",
    "\n",
    "Tldr: It represents the **return over investment** as a percentage of the gains or losses.\n",
    "\n",
    "Let's see an example\n"
   ]
  },
  {
   "cell_type": "code",
   "execution_count": 1,
   "id": "2ab617f6-7236-42ae-bc07-8145f5d27008",
   "metadata": {
    "scrolled": true
   },
   "outputs": [
    {
     "name": "stdout",
     "output_type": "stream",
     "text": [
      "the ROI as % gained is: 0.1\n"
     ]
    }
   ],
   "source": [
    "\n",
    "initial_value_of_investment = 10000\n",
    "final_value_of_investement = 11000\n",
    "\n",
    "roi = (final_value_of_investement - initial_value_of_investment) / initial_value_of_investment\n",
    "\n",
    "## Let's figure out if our investement has gone up or down, and in what percentage.\n",
    "print('the ROI as % gained is:',roi)\n"
   ]
  },
  {
   "cell_type": "markdown",
   "id": "285675ba-4b40-4fee-878c-5b7b52f80918",
   "metadata": {},
   "source": [
    "We can re-arrange ROI formula above, if we want to know the **dollar value** $v_t2$ of our investment at the end of time period $t$ as such:\n",
    "\n",
    "\n",
    "$$ {v_t2 = v_t1 * (1 + r)}$$\n",
    "\n",
    "Let's see an example:"
   ]
  },
  {
   "cell_type": "code",
   "execution_count": 27,
   "id": "badc861b-19c0-4ef9-835d-2a690410daee",
   "metadata": {},
   "outputs": [
    {
     "name": "stdout",
     "output_type": "stream",
     "text": [
      "the ROI as dollar value is 11000.0\n"
     ]
    }
   ],
   "source": [
    "initial_value_of_investment = 10000\n",
    "annual_rate_of_return = 0.1\n",
    "\n",
    "roi_dollar_value = initial_value_of_investment * (1 + annual_rate_of_return)\n",
    "\n",
    "print('the ROI as dollar value is',roi_dollar_value)"
   ]
  },
  {
   "cell_type": "markdown",
   "id": "a0080652-d3cd-49ad-a75c-8655ffd47419",
   "metadata": {
    "jp-MarkdownHeadingCollapsed": true
   },
   "source": [
    "#### ii. Cumulative Growth (or depreciation)\n",
    "The value of an investment with constant cumulative growth over time, can be calculated as:\n",
    "\n",
    "$$ InvestmentValue =  v_t0 * (1 + r)^t$$\n",
    "\n",
    "Where:\n",
    "1. $vto$ is the initial value of the investment at time 0.\n",
    "2. $t$ is the lifespan of the investment in years.\n",
    "3. $r$ is the rate of return of investment."
   ]
  },
  {
   "cell_type": "code",
   "execution_count": 39,
   "id": "8bf9d116-1580-494d-bac7-f876528eb39a",
   "metadata": {},
   "outputs": [
    {
     "name": "stdout",
     "output_type": "stream",
     "text": [
      "the investment value in the future is: 196801.06004656252\n"
     ]
    }
   ],
   "source": [
    "# si invierto $100k en el banco,\n",
    "initial_value_of_investment = 100000\n",
    "# y me dan de interes 14.5% anual por tener mi dinero,\n",
    "annual_rate_of_return = 0.145\n",
    "# y tengo mi dinero 5 años.\n",
    "investment_lifespan = 5\n",
    "\n",
    "investment_value = initial_value_of_investment * (1 + annual_rate_of_return)**investment_lifespan\n",
    "\n",
    "print('the investment value in the future is:', investment_value)\n"
   ]
  },
  {
   "cell_type": "markdown",
   "id": "55e48bf0-92ba-4d2d-9424-557e95cbb979",
   "metadata": {
    "jp-MarkdownHeadingCollapsed": true
   },
   "source": [
    "#### iii. Discount factors and depreciation\n",
    "What if we know the investment value, the rate of return, and we want to calculate the initial value of the investment. We use discount factors for that.\n",
    "\n",
    "The formula is:\n",
    "\n",
    "$$ df = {1 \\over (1 + r)^t}  $$\n",
    "\n",
    "It's the number that if multiplied by the future value, equals the intial value:\n",
    "\n",
    "$$ v = fv * df $$\n",
    "\n",
    "Where: \n",
    "1. $df$ is discount factor.\n",
    "2. $r$ is rate of return of investment.\n",
    "3. $t$ is the lifespan of the investment in years.\n",
    "4. $fv$ is future value of investment\n",
    "5. $v$ initial value of investment.\n",
    "\n",
    "An example:"
   ]
  },
  {
   "cell_type": "code",
   "execution_count": 2,
   "id": "4090ab03-7122-4c65-908e-12db2489b6b0",
   "metadata": {},
   "outputs": [
    {
     "name": "stdout",
     "output_type": "stream",
     "text": [
      "the initial value of my investment was: 50812.734431583\n",
      "---------------------------------\n",
      "Future value: 59.87\n",
      "Discount factor: 1.67\n",
      "Initial value: 100.0\n"
     ]
    }
   ],
   "source": [
    "# tengo 100k luego de \n",
    "future_value_of_investment = 100000\n",
    "# interes 14.5% anual por tener mi dinero,\n",
    "annual_rate_of_return = 0.145\n",
    "# 5 años en el banco.\n",
    "investment_lifespan = 5\n",
    "\n",
    "discount_factor = 1 / (1 + annual_rate_of_return)**investment_lifespan\n",
    "\n",
    "intial_value_of_investment = future_value_of_investment * discount_factor\n",
    "\n",
    "print('the initial value of my investment was:', intial_value_of_investment)\n",
    "\n",
    "print('---------------------------------')\n",
    "#Or also used to calculate depreciation.\n",
    "#Calculate the future value of a $100 investment that depreciates in value by 5% per year for 10 years and assign it to future_value.\n",
    "# Calculate the future value\n",
    "initial_investment = 100\n",
    "growth_rate = -0.05\n",
    "growth_periods = 10\n",
    "future_value = initial_investment*(1 + growth_rate)**(growth_periods)\n",
    "print(\"Future value: \" + str(round(future_value, 2)))\n",
    "\n",
    "# Calculate the discount factor\n",
    "discount_factor = 1/((1 + growth_rate)**(growth_periods))\n",
    "print(\"Discount factor: \" + str(round(discount_factor, 2)))\n",
    "\n",
    "# Derive the initial value of the investment\n",
    "initial_investment_again = future_value * discount_factor\n",
    "print(\"Initial value: \" + str(round(initial_investment_again, 2)))"
   ]
  },
  {
   "cell_type": "markdown",
   "id": "1006a966-d86d-447d-9ec7-415d52fd21af",
   "metadata": {},
   "source": [
    "#### iv. Compound interest\n",
    "What Einstein called, the 8th world wonder. It's the initial investment + investment profits which grows exponentially over time. To calculate the investment value after considering the compounding periods per year, we use the formula:\n",
    "\n",
    "$$ InvestmentValue = v_t0 * (1 + (r  /  c))^{t*c} $$\n",
    "\n",
    "Where:\n",
    "1. $vto$ is the initial value of the investment at time 0.\n",
    "2. $r$ is rate of return of investment.\n",
    "3. $t$ is the lifespan of the investment in years.\n",
    "4. $c$ is the compounding periods per year.\n",
    "\n",
    "An example:"
   ]
  },
  {
   "cell_type": "code",
   "execution_count": 4,
   "id": "dc82a431-c4a4-4da2-a991-91497bd0ed94",
   "metadata": {},
   "outputs": [
    {
     "name": "stdout",
     "output_type": "stream",
     "text": [
      "Investment 1 compounded yearly: 574.35\n",
      "Investment 2 compounded quarterly: 596.93\n",
      "Investment 3 compounded monthly: 602.26\n"
     ]
    }
   ],
   "source": [
    "# Predefined variables\n",
    "initial_investment = 100\n",
    "growth_periods = 30\n",
    "growth_rate = 0.06\n",
    "\n",
    "# Calculate the value for the investment compounded once per year\n",
    "compound_periods_1 = 1\n",
    "investment_1 = initial_investment*(1 + growth_rate / compound_periods_1)**(compound_periods_1*growth_periods)\n",
    "print(\"Investment 1 compounded yearly: \" + str(round(investment_1, 2)))\n",
    "\n",
    "# Calculate the value for the investment compounded quarterly\n",
    "compound_periods_2 = 4\n",
    "investment_2 = initial_investment*(1 + growth_rate / compound_periods_2)**(compound_periods_2*growth_periods)\n",
    "print(\"Investment 2 compounded quarterly: \" + str(round(investment_2, 2)))\n",
    "\n",
    "# Calculate the value for the investment compounded monthly\n",
    "compound_periods_3 = 12\n",
    "investment_3 = initial_investment*(1 + growth_rate / compound_periods_3)**(compound_periods_3*growth_periods)\n",
    "print(\"Investment 3 compounded monthly: \" + str(round(investment_3, 2)))"
   ]
  },
  {
   "cell_type": "markdown",
   "id": "042d398b-a57a-4b39-afce-283d4f58a811",
   "metadata": {
    "jp-MarkdownHeadingCollapsed": true
   },
   "source": [
    "### b. Present and Future Value"
   ]
  },
  {
   "cell_type": "markdown",
   "id": "a648d388-12db-4694-b445-9351fb37b75a",
   "metadata": {},
   "source": [
    "The present value represents the amount I invest today, whereas the future value represents how much my investment would be given a growth rate and a number of compunding periods.\n",
    "\n",
    "$$ FV = PV * (1 + r)^t$$\n",
    "\n",
    "And deriving the present value formula:\n",
    "$$ PV = {FV \\over (1 + r)^t}$$\n",
    "\n",
    "Note: PV is always a negative number because it's an owed amount, an investment at time 0.\n",
    "\n",
    "An example:"
   ]
  },
  {
   "cell_type": "code",
   "execution_count": 12,
   "id": "731df25e-3226-477a-a023-d8a9500400e1",
   "metadata": {},
   "outputs": [
    {
     "name": "stdout",
     "output_type": "stream",
     "text": [
      "PV is worth 7440.94 in today's dollars\n",
      "FV will yield a total of $16288.95 in 15 years\n",
      "After adjusting for inflation, investment 1 is worth $12120.51 in today's dollars\n"
     ]
    }
   ],
   "source": [
    "import numpy_financial as npf\n",
    "\n",
    "#compute the present value of an investment which will yield $10,000 10 years from now,\n",
    "# at an inflation rate of 3% per year and assign it to investment_1.\n",
    "present_value = npf.pv(rate=0.03, nper=10, pmt=0, fv=10000)\n",
    "\n",
    "# Note that the present value returned is negative, so we multiply the result by -1\n",
    "print(\"PV is worth \" + str(round(-present_value, 2)) + \" in today's dollars\")\n",
    "\n",
    "# calculate the future value of a $10,000 investment returning 5% per year for 10 years and assign it to investment_1.\n",
    "future_value = npf.fv(rate=0.05, nper=10, pmt=0, pv=-10000)\n",
    "print(\"FV will yield a total of $\" + str(round(future_value, 2)) + \" in 15 years\")\n",
    "\n",
    "# now let's calculate the inflation adjusted future value of  our investment\n",
    "# Calculate investment_2\n",
    "future_value_adjusted = npf.pv(rate=0.03, nper=10, pmt=0, fv=future_value)\n",
    "print(\"After adjusting for inflation, investment 1 is worth $\" + str(round(-future_value_adjusted, 2)) + \" in today's dollars\")"
   ]
  },
  {
   "cell_type": "markdown",
   "id": "69aeede7-bd27-4a52-9bee-f4c3c27e63d8",
   "metadata": {},
   "source": [
    "### c. Net Present Value and Cash Flow"
   ]
  },
  {
   "cell_type": "markdown",
   "id": "085ca857-4144-475c-a122-c1aa6e80cbd8",
   "metadata": {},
   "source": [
    "Net Present Value is the present value calculated from series of cash flows. It's formula is:\n",
    "\n",
    "$$ NPV = \\sum_{n=1}^{N} {C_n  \\over  (1 + r)^n} $$\n",
    "\n",
    "Where: \n",
    "1. $r$ is rate of return of investment.\n",
    "2. $n$ is the time period.\n",
    "3. $C_n$ Net cashflow at time period.\n",
    "4. $N$ total number of time periods.\n",
    "\n",
    "An example:"
   ]
  },
  {
   "cell_type": "code",
   "execution_count": 15,
   "id": "d5b9cd95-3686-4795-985f-fdd3809c9b0d",
   "metadata": {},
   "outputs": [
    {
     "name": "stdout",
     "output_type": "stream",
     "text": [
      "The net present value of Investment 1 is worth $665.54 in today's dollars\n",
      "The net present value of Investment 2 is worth $346.7 in today's dollars\n"
     ]
    }
   ],
   "source": [
    "# For this exercise, you will calculate the net present value of two potential projects with different cash flows:\n",
    "import numpy_financial as npf\n",
    "import numpy as np\n",
    "\n",
    "# Create an array of cash flows for project 1\n",
    "cash_flows_1 = np.array([-250,100,200,300,400])\n",
    "\n",
    "# Create an array of cash flows for project 2\n",
    "cash_flows_2 = np.array([-250,300,-250,300,300])\n",
    "\n",
    "# Calculate the net present value of project 1\n",
    "investment_1 = npf.npv(rate=0.03, values=cash_flows_1)\n",
    "print(\"The net present value of Investment 1 is worth $\" + str(round(investment_1, 2)) + \" in today's dollars\")\n",
    "\n",
    "# Calculate the net present value of project 2\n",
    "investment_2 = npf.npv(rate=0.03, values=cash_flows_2)\n",
    "print(\"The net present value of Investment 2 is worth $\" + str(round(investment_2, 2)) + \" in today's dollars\")"
   ]
  },
  {
   "cell_type": "markdown",
   "id": "e6110736-c04e-4664-90dc-bf21a50685c2",
   "metadata": {
    "jp-MarkdownHeadingCollapsed": true
   },
   "source": [
    "## 2. Making Data-Driven Financial Decisions"
   ]
  },
  {
   "cell_type": "markdown",
   "id": "008329e9-187a-42dd-b435-dd008aee7a4b",
   "metadata": {},
   "source": [
    "### a. A Tale of 2 project proposals (IRR)"
   ]
  },
  {
   "cell_type": "markdown",
   "id": "69ab06aa-4854-4665-b5bd-2bfe75983323",
   "metadata": {},
   "source": [
    "We'll use 3 different methods, each with it's pros and cons, for capital budgeting to analyze the relative profitability of 2 projects to decide which one we should go for. Methods we'll use are:\n",
    "\n",
    "1. NPV (Net Present Value). We saw this one on the last section of the last chapter\n",
    "2. IRR (Internal Rate of Return)\n",
    "3. EAA (Equivalent Annual Annuity)\n",
    "   \n",
    "**IRR**: In more detail:\n",
    "\n",
    "- Computed by solving by IRR in the NPV equation when set equal to 0.\n",
    "- Useful to compare projects of different sizes and lengths, since it returns a percentage.\n",
    "  \n",
    "The function we derive the calculation for IRR is:\n",
    "\n",
    "$$ IRR = \\sum_{t=1}^T {C_t  \\over  (1 + IRR)^t} - C_0 = 0 $$\n",
    "\n",
    "**EAA**: \n"
   ]
  },
  {
   "cell_type": "code",
   "execution_count": 17,
   "id": "001b4ac0-cabf-4723-b67a-ef59091a91e1",
   "metadata": {},
   "outputs": [
    {
     "name": "stdout",
     "output_type": "stream",
     "text": [
      "Project 1 IRR: 28.92%\n",
      "Project 2 IRR: 28.78%\n"
     ]
    }
   ],
   "source": [
    "import numpy as np\n",
    "import numpy_financial as npf\n",
    "\n",
    "# Create a numpy array of cash flows for Project 1\n",
    "cf_project_1 = np.array([-1000,200,250,300,350,400,450,500,550,600])\n",
    "\n",
    "# Create a numpy array of cash flows for Project 2\n",
    "cf_project_2 = np.array([-1000,150,225,300,375,425,500,575,600,625])\n",
    "\n",
    "# Scale the original objects by 1000x. Financial records usually come this way, so careful of this.\n",
    "cf_project1 = cf_project_1 * 1000\n",
    "cf_project2 = cf_project_2 * 1000\n",
    "\n",
    "# Calculate the internal rate of return for Project 1\n",
    "irr_project1 = npf.irr(cf_project1)\n",
    "print(\"Project 1 IRR: \" + str(round(100*irr_project1, 2)) + \"%\")\n",
    "\n",
    "# Calculate the internal rate of return for Project 2\n",
    "irr_project2 = npf.irr(cf_project2)\n",
    "print(\"Project 2 IRR: \" + str(round(100*irr_project2, 2)) + \"%\")\n",
    "\n",
    "# Decision: Project 1 yields better IRR, so we'd go with this project purely based off IRR"
   ]
  },
  {
   "cell_type": "markdown",
   "id": "40745445-6a3b-4e8d-82e0-4b97eedcc3ec",
   "metadata": {
    "jp-MarkdownHeadingCollapsed": true
   },
   "source": [
    "### b. The Weighted Average Cost of Capital (WACC)"
   ]
  },
  {
   "cell_type": "markdown",
   "id": "2c403f83-7b40-4746-abab-e560eaf99544",
   "metadata": {},
   "source": [
    "Represents the weighted cost of funding a business. Used as a discount rate when evaluating investments. We can calculate it with:\n",
    "\n",
    "$$ WACC = F_{equity} * C_{equity} + F_{debt} * C_{debt} * (1 - TR)$$\n",
    "\n",
    "Where:\n",
    "1. $F_{equity}$: Proportion (%) of a company's financing via equity.\n",
    "2. $C_{equity}$: The cost of a company's equity. Usually in the form of returns over the stock price (e.g I invest 100usd at time0 and expect a 10% IRR, thus 10usd at time1)\n",
    "3. $F_{debt}$: Proportion (%) of a company's financing via debt.\n",
    "4. $F_{debt}$: The cost of a company's debt. Usually in the form of interests paid for a loan.\n",
    "5. $TR$: Tax Rate.\n",
    "\n",
    "To find the **proportion of financing**, or $F_{equity}$ and $F_{debt}$ and know what's the percentage of our equity or debt relative to the total amount of equity, or debt, we use:\n",
    "\n",
    "$$ F_{equity} = {M_{equity} \\over M_{total}}$$\n",
    "\n",
    "$$ F_{debt} = {M_{debt} \\over M_{total}}$$\n",
    "\n",
    "$$ M_{total} = M_{debt} + M_{equity}$$\n",
    "\n",
    "Where:\n",
    "1. $M_{debt}$: Market value of company's debt.\n",
    "2. $M_{equity}$:Market value of company's equity.\n",
    "3. $M_{total}$: Total value of company´s financing."
   ]
  },
  {
   "cell_type": "code",
   "execution_count": 21,
   "id": "93aa673e-e8d6-442d-8f77-06cffc5faf35",
   "metadata": {},
   "outputs": [
    {
     "name": "stdout",
     "output_type": "stream",
     "text": [
      "Debt Financing: 50.0%\n",
      "Equity Financing: 50.0%\n",
      "WACC: 12.9%\n",
      "Project 1 NPV: 856073.18\n",
      "Project 2 NPV: 904741.35\n"
     ]
    }
   ],
   "source": [
    "# Exercise: We fund a company via $1M in debt, and $1M in equity\n",
    "import numpy as np\n",
    "import numpy_financial as npf\n",
    "#1. Get the proportions of financing\n",
    "# Set the market value of debt\n",
    "mval_debt = 1000000\n",
    "\n",
    "# Set the market value of equity\n",
    "mval_equity = 1000000\n",
    "\n",
    "# Compute the total market value of your company's financing\n",
    "mval_total = mval_debt + mval_equity\n",
    "\n",
    "# Compute the proportion of your company's financing via debt\n",
    "percent_debt = mval_debt / mval_total\n",
    "print(\"Debt Financing: \" + str(round(100*percent_debt, 2)) + \"%\")\n",
    "\n",
    "# Compute the proportion of your company's financing via equity\n",
    "percent_equity = mval_equity / mval_total\n",
    "print(\"Equity Financing: \" + str(round(100*percent_equity, 2)) + \"%\")\n",
    "\n",
    "# 2. Calculate WACC\n",
    "# Set the cost of equity\n",
    "cost_equity = 0.18\n",
    "\n",
    "# Set the cost of debt\n",
    "cost_debt = 0.12\n",
    "\n",
    "# Set the corporate tax rate\n",
    "tax_rate = 0.35\n",
    "\n",
    "# Calculate the WACC\n",
    "wacc = (percent_equity * cost_equity) + ((percent_debt * cost_debt) * (1 - tax_rate))\n",
    "print(\"WACC: \" + str(round(100*wacc, 2)) + \"%\")\n",
    "\n",
    "# 3. Evaluate 2 projects based on this WACC\n",
    "# Create a numpy array of cash flows for Project 1\n",
    "cf_project_1 = np.array([-1000,200,250,300,350,400,450,500,550,600])\n",
    "\n",
    "# Create a numpy array of cash flows for Project 2\n",
    "cf_project_2 = np.array([-1000,150,225,300,375,425,500,575,600,625])\n",
    "# Calculate the net present value for Project 1\n",
    "npv_project1 = npf.npv(rate=wacc, values=cf_project1)\n",
    "print(\"Project 1 NPV: \" + str(round(npv_project1, 2)))\n",
    "\n",
    "# Calculate the net present value for Project 2\n",
    "npv_project2 = npf.npv(rate=wacc, values=cf_project2)\n",
    "print(\"Project 2 NPV: \" + str(round(npv_project2, 2)))"
   ]
  },
  {
   "cell_type": "markdown",
   "id": "39687cf4-4c90-4e5b-b1fd-a4035ddc558d",
   "metadata": {},
   "source": [
    "### c. Comparing 2 projects with different lifespans (EAA)"
   ]
  },
  {
   "cell_type": "markdown",
   "id": "dcaaf3ad-5fbe-4c5b-9a18-312e1c2eec2c",
   "metadata": {},
   "source": [
    "NPV doesn't account for how long a project is, NPV will have higher values for longer projects. IRR is good though since it's a rate, but doesn't give a sense of the size of the project.\n",
    "\n",
    "**Equivalent Annual Annuity** is used to compare projects with different lifespans, in present value terms. It's formula is:\n",
    "\n",
    "$$ EAA = { r * NPV \\over 1 - (1 + r)^{-n}} $$\n",
    "\n",
    "Where:\n",
    "1. $r$ r is the rate of return.\n",
    "2. $n$ number of periods in investment.\n",
    "\n",
    "When comparing projects, a higher EAA and IRR despite a lower NPV is favorable, in the case the lifespans of the projects differ. "
   ]
  },
  {
   "cell_type": "code",
   "execution_count": 23,
   "id": "72d68393-b76e-4900-8f6d-5a89f6cca9a5",
   "metadata": {},
   "outputs": [
    {
     "name": "stdout",
     "output_type": "stream",
     "text": [
      "Project 1 IRR: 22.94%\n",
      "Project 2 IRR: 26.89%\n",
      "Project 1 NPV: 302744.98\n",
      "Project 2 NPV: 231228.39\n",
      "Project 1 EAA: 62872.2\n",
      "Project 2 EAA: 52120.61\n",
      "procest 1 is a better investment because t has a higher IRR and EAA!\n"
     ]
    }
   ],
   "source": [
    "import numpy as np\n",
    "import numpy_financial as npf\n",
    "#1. get cash flows of projects\n",
    "# Create a numpy array of cash flows for Project 1\n",
    "cf_project_1 = np.array([-700,100,150,200,250,300,350,400])\n",
    "\n",
    "# Create a numpy array of cash flows for Project 2\n",
    "cf_project_2 = np.array([-400,50,100,150,200,250,300])\n",
    "\n",
    "# Scale the original objects by 1000x\n",
    "cf_project1 = cf_project_1 * 1000\n",
    "cf_project2 = cf_project_2 * 1000\n",
    "\n",
    "# 2. calculate irr and npv\n",
    "# Calculate the IRR for Project 1\n",
    "irr_project1 = npf.irr(cf_project1)\n",
    "print(\"Project 1 IRR: \" + str(round(100*irr_project1, 2)) + \"%\")\n",
    "\n",
    "# Calculate the IRR for Project 2\n",
    "irr_project2 = npf.irr(cf_project2)\n",
    "print(\"Project 2 IRR: \" + str(round(100*irr_project2, 2)) + \"%\")\n",
    "\n",
    "# Set the wacc equal to 12.9%, from previous exercise\n",
    "wacc = 0.129\n",
    "\n",
    "# Calculate the NPV for Project 1\n",
    "npv_project1 = npf.npv(rate=wacc, values=cf_project1)\n",
    "print(\"Project 1 NPV: \" + str(round(npv_project1, 2)))\n",
    "\n",
    "# Calculate the NPV for Project 2\n",
    "npv_project2 = npf.npv(rate=wacc, values=cf_project2)\n",
    "print(\"Project 2 NPV: \" + str(round(npv_project2, 2)))\n",
    "\n",
    "#3. Calculate EAA and determine what's a better investment\n",
    "# Calculate the EAA for Project 1\n",
    "eaa_project1 = npf.pmt(rate=wacc, nper=8, pv=-npv_project1, fv=0)\n",
    "print(\"Project 1 EAA: \" + str(round(eaa_project1, 2)))\n",
    "\n",
    "# Calculate the EAA for Project 2\n",
    "eaa_project2 = npf.pmt(rate=wacc, nper=7, pv=-npv_project2, fv=0)\n",
    "print(\"Project 2 EAA: \" + str(round(eaa_project2, 2)))\n",
    "print('procest 1 is a better investment because t has a higher IRR and EAA!')"
   ]
  },
  {
   "cell_type": "markdown",
   "id": "fd1292c3-1bf2-4d16-89d0-6910eedab0d3",
   "metadata": {},
   "source": [
    "## 3. Simulating a mortage loan for a house"
   ]
  },
  {
   "cell_type": "markdown",
   "id": "ca662541-91ac-4606-b984-4bbc7eea2035",
   "metadata": {},
   "source": [
    "### a. Mortgage basics"
   ]
  },
  {
   "cell_type": "markdown",
   "id": "a082778f-6caf-4e27-8fec-3d59d89f83ed",
   "metadata": {},
   "source": [
    "We're super excited to finally buy a house. To finance the house we'll take a mortage loan.\n",
    "\n",
    "1. The total cost of the house is $800k USD\n",
    "2. Our 20% down payment is $160k USD\n",
    "3. We'll take a mortage on the remaining $640k USD, to be paid off in 30 years\n",
    "\n",
    "Mortage loans are paid monthly, so to calculate the interest rate we'll be paying monthly, we use the following formula to normalize the rate from annual to monthly:\n",
    "\n",
    "$$R_{periodic} = (1 + R_{annnual})^{1 \\over N} - 1$$\n",
    "\n",
    "Where\n",
    "1. $R_{annual}$: Rate of return or interest.\n",
    "2. $N$: Number of payment periods in year"
   ]
  },
  {
   "cell_type": "code",
   "execution_count": 28,
   "id": "cc50b07a-bd4f-4b08-9056-360037f1ddae",
   "metadata": {},
   "outputs": [
    {
     "name": "stdout",
     "output_type": "stream",
     "text": [
      "Initial Down Payment: 160000.0\n",
      "Mortgage Loan: 640000.0\n",
      "Monthly Mortgage Payment with 3.75% rate: 2941.13\n"
     ]
    }
   ],
   "source": [
    "import numpy as np\n",
    "import numpy_financial as npf\n",
    "\n",
    "# Set the value of the home you are looking to buy\n",
    "home_value = 800000\n",
    "\n",
    "# What percentage are you paying up-front?\n",
    "down_payment_percent = .2\n",
    "\n",
    "# Calculate the dollar value of the down payment\n",
    "down_payment = home_value * down_payment_percent\n",
    "print(\"Initial Down Payment: \" + str(down_payment))\n",
    "\n",
    "# Calculate the value of the mortgage loan required after the down payment\n",
    "mortgage_loan = home_value - down_payment\n",
    "print(\"Mortgage Loan: \" + str(mortgage_loan))\n",
    "\n",
    "\n",
    "# Derive the equivalent monthly mortgage rate from the annual rate\n",
    "mortgage_rate = 0.0375\n",
    "mortgage_rate_periodic = ((1 + mortgage_rate)**(1/12)) - 1\n",
    "\n",
    "# How many monthly payment periods will there be over 30 years?\n",
    "mortgage_payment_periods = 30 * 12\n",
    "\n",
    "# Calculate the monthly mortgage payment (multiply by -1 to keep it positive)\n",
    "periodic_mortgage_payment = -1*npf.pmt(rate=mortgage_rate_periodic, nper=mortgage_payment_periods, pv=640000)\n",
    "print(\"Monthly Mortgage Payment with 3.75% rate: \" + str(round(periodic_mortgage_payment, 2)))"
   ]
  },
  {
   "cell_type": "markdown",
   "id": "428da0a6-47a2-4caf-a3c9-d34263d8fc3b",
   "metadata": {},
   "source": [
    "### b. Amortization, interest and principal"
   ]
  },
  {
   "cell_type": "markdown",
   "id": "f38936b1-2e31-421c-94ca-596c1d7000fd",
   "metadata": {},
   "source": [
    "At the beggining of a amortized payment schedule, payments go to the interest, and not the principal. This is a way for banks to \"put themselves first\", in case the loan can't be completed, keeping the asset in that scenario.\n",
    "\n",
    "**Interest Payment** and **Principal Payment**, or the amount of the mortgage payment that goes towards interest or towards the house itself for a given payment, can be calculated with:\n",
    "\n",
    "$$IP_{periodic} = RMB * R_{periodic}$$\n",
    "\n",
    "$$PP_{periodic} = MP_{periodic} - IP_{periodic}$$\n",
    "\n",
    "Where:\n",
    "1. $IP_{periodic}$: Periodic interest payment.\n",
    "2. $RMB$: Remaning mortgage balance\n",
    "3. $R_{periodic}$: Periodic monthly mortgage interest rate.\n",
    "4. $PP_{periodic}$: Periodic principal payment.\n",
    "5. $MP_{periodic}$: Periodic mortgage payment.\n"
   ]
  },
  {
   "cell_type": "code",
   "execution_count": 40,
   "id": "970876b4-366a-4847-b932-947ff9a96d36",
   "metadata": {},
   "outputs": [
    {
     "data": {
      "image/png": "[encoded data removed]",
      "text/plain": [
       "<Figure size 640x480 with 1 Axes>"
      ]
     },
     "metadata": {},
     "output_type": "display_data"
    }
   ],
   "source": [
    "import numpy as np\n",
    "from matplotlib import pyplot as plt \n",
    "\n",
    "## Let's simulate a mortgage loan based on values from the previous mortgage exercise\n",
    "mortage_loan = 640000\n",
    "mortgage_payment_periods = 30 * 12\n",
    "\n",
    "interest_paid = np.zeros(mortgage_payment_periods)\n",
    "principal_paid = np.zeros(mortgage_payment_periods)\n",
    "principal_remaining = np.zeros(mortgage_payment_periods)\n",
    "# Loop through each mortgage payment period\n",
    "for i in range(0, mortgage_payment_periods):\n",
    "    \n",
    "    # Handle the case for the first iteration\n",
    "    if i == 0:\n",
    "        previous_principal_remaining = mortgage_loan\n",
    "    else:\n",
    "        previous_principal_remaining = principal_remaining[i-1]\n",
    "        \n",
    "    # Calculate the interest based on the previous principal\n",
    "    interest_payment = round(previous_principal_remaining*mortgage_rate_periodic, 2)\n",
    "    principal_payment = round(periodic_mortgage_payment - interest_payment, 2)\n",
    "    \n",
    "    # Catch the case where all principal is paid off in the final period\n",
    "    if previous_principal_remaining - principal_payment < 0:\n",
    "        principal_payment = previous_principal_remaining\n",
    "        \n",
    "    # Collect the historical values\n",
    "    interest_paid[i] = interest_payment\n",
    "    principal_paid[i] = principal_payment\n",
    "    principal_remaining[i] = previous_principal_remaining - principal_payment\n",
    "    \n",
    "# Plot the interest vs principal\n",
    "plt.plot(interest_paid, color=\"red\", label='Interest')\n",
    "plt.plot(principal_paid, color=\"blue\", label= 'Principal')\n",
    "plt.xlabel('Period')\n",
    "plt.ylabel('Amount Paid per month')\n",
    "plt.legend()\n",
    "plt.show()"
   ]
  }
 ],
 "metadata": {
  "kernelspec": {
   "display_name": "Python 3 (ipykernel)",
   "language": "python",
   "name": "python3"
  },
  "language_info": {
   "codemirror_mode": {
    "name": "ipython",
    "version": 3
   },
   "file_extension": ".py",
   "mimetype": "text/x-python",
   "name": "python",
   "nbconvert_exporter": "python",
   "pygments_lexer": "ipython3",
   "version": "3.12.4"
  }
 },
 "nbformat": 4,
 "nbformat_minor": 5
}
