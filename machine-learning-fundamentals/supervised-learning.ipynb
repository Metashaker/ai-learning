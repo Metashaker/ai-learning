{
 "cells": [
  {
   "cell_type": "markdown",
   "id": "c37ab20c-78a7-47bd-8960-c4063e9d5e8d",
   "metadata": {},
   "source": [
    "# Supervised Learning with Scikit learn"
   ]
  },
  {
   "cell_type": "markdown",
   "id": "f5658213-99aa-46d7-8316-b9dec224c78d",
   "metadata": {},
   "source": [
    "## 1. Classification "
   ]
  },
  {
   "cell_type": "markdown",
   "id": "0559a40e-2cbf-4b2f-b034-921e0ee0aea8",
   "metadata": {},
   "source": [
    "**Supervised learning** has 2 categories: classification and regression.\n",
    "\n",
    "Classification is in charge of predicting categorical values. E.g an email being spam or not, for this we use _binary classification_.\n",
    "\n",
    "An example of a binary classifier:"
   ]
  },
  {
   "cell_type": "code",
   "execution_count": 9,
   "id": "8c7f0635-b4bd-4b77-bff3-70ca38243cbc",
   "metadata": {},
   "outputs": [
    {
     "name": "stdout",
     "output_type": "stream",
     "text": [
      "Predictions: [0 1 0]\n"
     ]
    }
   ],
   "source": [
    "# import data from the csv file and turn into panda df\n",
    "import pandas as pd\n",
    "import numpy as np\n",
    "import matplotlib.pyplot as plt\n",
    "\n",
    "# read the csv file\n",
    "churn_df = pd.read_csv('./data/Telecom_Churn_Clean.csv')\n",
    "\n",
    "# print the first 5 rows of the dataframe\n",
    "#print(df.head())\n",
    "\n",
    "# Import KNeighborsClassifier\n",
    "from sklearn.neighbors import KNeighborsClassifier\n",
    "\n",
    "y = churn_df[\"churn\"].values\n",
    "X = churn_df[[\"account_length\", \"customer_service_calls\"]].values\n",
    "\n",
    "# Create a KNN classifier with 6 neighbors\n",
    "knn = KNeighborsClassifier(n_neighbors=6)\n",
    "\n",
    "# Fit the classifier to the data\n",
    "knn.fit(X, y)\n",
    "\n",
    "# predict with new data\n",
    "X_new = np.array([[30.0, 17.5],\n",
    "                  [107.0, 24.1],\n",
    "                  [213.0, 10.9]])\n",
    "\n",
    "y_pred = knn.predict(X_new)\n",
    "\n",
    "# Print the predictions\n",
    "print(\"Predictions: {}\".format(y_pred)) \n"
   ]
  },
  {
   "cell_type": "code",
   "execution_count": null,
   "id": "d71ef8dd-06d2-487c-8d9d-03625f2dd50c",
   "metadata": {},
   "outputs": [],
   "source": []
  }
 ],
 "metadata": {
  "kernelspec": {
   "display_name": "Python 3 (ipykernel)",
   "language": "python",
   "name": "python3"
  },
  "language_info": {
   "codemirror_mode": {
    "name": "ipython",
    "version": 3
   },
   "file_extension": ".py",
   "mimetype": "text/x-python",
   "name": "python",
   "nbconvert_exporter": "python",
   "pygments_lexer": "ipython3",
   "version": "3.12.4"
  }
 },
 "nbformat": 4,
 "nbformat_minor": 5
}
